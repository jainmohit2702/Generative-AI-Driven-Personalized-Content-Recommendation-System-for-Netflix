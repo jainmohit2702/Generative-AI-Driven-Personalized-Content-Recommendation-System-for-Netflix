{
  "cells": [
    {
      "cell_type": "code",
      "execution_count": null,
      "metadata": {
        "id": "OcaWff7nbqWc"
      },
      "outputs": [],
      "source": [
        "%%capture\n",
        "# update or install the necessary libraries\n",
        "!pip install --upgrade openai\n",
        "!pip install --upgrade langchain\n",
        "!pip install --upgrade python-dotenv"
      ]
    },
    {
      "cell_type": "code",
      "execution_count": null,
      "metadata": {
        "id": "SXQojGlXb2wJ"
      },
      "outputs": [],
      "source": [
        "import openai\n",
        "import os\n",
        "import IPython\n",
        "from langchain.llms import OpenAI\n",
        "from dotenv import load_dotenv\n",
        "\n",
        "import json\n",
        "import pandas as pd\n",
        "from pprint import pprint\n",
        "\n",
        "client = openai.OpenAI(api_key=os.environ.get(\"OPENAI_API_KEY\", \"key\"))"
      ]
    },
    {
      "cell_type": "code",
      "source": [
        "from google.colab import files, drive\n",
        "\n",
        "drive.mount('/content/drive')"
      ],
      "metadata": {
        "colab": {
          "base_uri": "https://localhost:8080/"
        },
        "id": "gqha4xVaOKQ_",
        "outputId": "a4f5128e-3bbd-4f39-fefe-4cc6777743ff"
      },
      "execution_count": null,
      "outputs": [
        {
          "output_type": "stream",
          "name": "stdout",
          "text": [
            "Drive already mounted at /content/drive; to attempt to forcibly remount, call drive.mount(\"/content/drive\", force_remount=True).\n"
          ]
        }
      ]
    },
    {
      "cell_type": "code",
      "source": [
        "df = pd.read_csv(\"/content/drive/MyDrive/netflix_titles.csv\")\n",
        "\n",
        "df.head()"
      ],
      "metadata": {
        "colab": {
          "base_uri": "https://localhost:8080/",
          "height": 449
        },
        "id": "9fQbDFonOKN5",
        "outputId": "73b7de5f-02cd-42e3-dccb-20b49567439c"
      },
      "execution_count": null,
      "outputs": [
        {
          "output_type": "execute_result",
          "data": {
            "text/plain": [
              "         id                                title   type  \\\n",
              "0  ts300399  Five Came Back: The Reference Films   SHOW   \n",
              "1   tm84618                          Taxi Driver  MOVIE   \n",
              "2  tm127384      Monty Python and the Holy Grail  MOVIE   \n",
              "3   tm70993                        Life of Brian  MOVIE   \n",
              "4  tm190788                         The Exorcist  MOVIE   \n",
              "\n",
              "                                         description  release_year  \\\n",
              "0  This collection includes 12 World War II-era p...          1945   \n",
              "1  A mentally unstable Vietnam War veteran works ...          1976   \n",
              "2  King Arthur, accompanied by his squire, recrui...          1975   \n",
              "3  Brian Cohen is an average young Jewish man, bu...          1979   \n",
              "4  12-year-old Regan MacNeil begins to adapt an e...          1973   \n",
              "\n",
              "  age_certification  runtime                 genres production_countries  \\\n",
              "0             TV-MA       48      ['documentation']               ['US']   \n",
              "1                 R      113     ['crime', 'drama']               ['US']   \n",
              "2                PG       91  ['comedy', 'fantasy']               ['GB']   \n",
              "3                 R       94             ['comedy']               ['GB']   \n",
              "4                 R      133             ['horror']               ['US']   \n",
              "\n",
              "   seasons    imdb_id  imdb_score  imdb_votes  tmdb_popularity  tmdb_score  \n",
              "0      1.0        NaN         NaN         NaN            0.600         NaN  \n",
              "1      NaN  tt0075314         8.3    795222.0           27.612         8.2  \n",
              "2      NaN  tt0071853         8.2    530877.0           18.216         7.8  \n",
              "3      NaN  tt0079470         8.0    392419.0           17.505         7.8  \n",
              "4      NaN  tt0070047         8.1    391942.0           95.337         7.7  "
            ],
            "text/html": [
              "\n",
              "  <div id=\"df-3fc6bf4d-97dd-4862-ac84-88c03271d5ca\" class=\"colab-df-container\">\n",
              "    <div>\n",
              "<style scoped>\n",
              "    .dataframe tbody tr th:only-of-type {\n",
              "        vertical-align: middle;\n",
              "    }\n",
              "\n",
              "    .dataframe tbody tr th {\n",
              "        vertical-align: top;\n",
              "    }\n",
              "\n",
              "    .dataframe thead th {\n",
              "        text-align: right;\n",
              "    }\n",
              "</style>\n",
              "<table border=\"1\" class=\"dataframe\">\n",
              "  <thead>\n",
              "    <tr style=\"text-align: right;\">\n",
              "      <th></th>\n",
              "      <th>id</th>\n",
              "      <th>title</th>\n",
              "      <th>type</th>\n",
              "      <th>description</th>\n",
              "      <th>release_year</th>\n",
              "      <th>age_certification</th>\n",
              "      <th>runtime</th>\n",
              "      <th>genres</th>\n",
              "      <th>production_countries</th>\n",
              "      <th>seasons</th>\n",
              "      <th>imdb_id</th>\n",
              "      <th>imdb_score</th>\n",
              "      <th>imdb_votes</th>\n",
              "      <th>tmdb_popularity</th>\n",
              "      <th>tmdb_score</th>\n",
              "    </tr>\n",
              "  </thead>\n",
              "  <tbody>\n",
              "    <tr>\n",
              "      <th>0</th>\n",
              "      <td>ts300399</td>\n",
              "      <td>Five Came Back: The Reference Films</td>\n",
              "      <td>SHOW</td>\n",
              "      <td>This collection includes 12 World War II-era p...</td>\n",
              "      <td>1945</td>\n",
              "      <td>TV-MA</td>\n",
              "      <td>48</td>\n",
              "      <td>['documentation']</td>\n",
              "      <td>['US']</td>\n",
              "      <td>1.0</td>\n",
              "      <td>NaN</td>\n",
              "      <td>NaN</td>\n",
              "      <td>NaN</td>\n",
              "      <td>0.600</td>\n",
              "      <td>NaN</td>\n",
              "    </tr>\n",
              "    <tr>\n",
              "      <th>1</th>\n",
              "      <td>tm84618</td>\n",
              "      <td>Taxi Driver</td>\n",
              "      <td>MOVIE</td>\n",
              "      <td>A mentally unstable Vietnam War veteran works ...</td>\n",
              "      <td>1976</td>\n",
              "      <td>R</td>\n",
              "      <td>113</td>\n",
              "      <td>['crime', 'drama']</td>\n",
              "      <td>['US']</td>\n",
              "      <td>NaN</td>\n",
              "      <td>tt0075314</td>\n",
              "      <td>8.3</td>\n",
              "      <td>795222.0</td>\n",
              "      <td>27.612</td>\n",
              "      <td>8.2</td>\n",
              "    </tr>\n",
              "    <tr>\n",
              "      <th>2</th>\n",
              "      <td>tm127384</td>\n",
              "      <td>Monty Python and the Holy Grail</td>\n",
              "      <td>MOVIE</td>\n",
              "      <td>King Arthur, accompanied by his squire, recrui...</td>\n",
              "      <td>1975</td>\n",
              "      <td>PG</td>\n",
              "      <td>91</td>\n",
              "      <td>['comedy', 'fantasy']</td>\n",
              "      <td>['GB']</td>\n",
              "      <td>NaN</td>\n",
              "      <td>tt0071853</td>\n",
              "      <td>8.2</td>\n",
              "      <td>530877.0</td>\n",
              "      <td>18.216</td>\n",
              "      <td>7.8</td>\n",
              "    </tr>\n",
              "    <tr>\n",
              "      <th>3</th>\n",
              "      <td>tm70993</td>\n",
              "      <td>Life of Brian</td>\n",
              "      <td>MOVIE</td>\n",
              "      <td>Brian Cohen is an average young Jewish man, bu...</td>\n",
              "      <td>1979</td>\n",
              "      <td>R</td>\n",
              "      <td>94</td>\n",
              "      <td>['comedy']</td>\n",
              "      <td>['GB']</td>\n",
              "      <td>NaN</td>\n",
              "      <td>tt0079470</td>\n",
              "      <td>8.0</td>\n",
              "      <td>392419.0</td>\n",
              "      <td>17.505</td>\n",
              "      <td>7.8</td>\n",
              "    </tr>\n",
              "    <tr>\n",
              "      <th>4</th>\n",
              "      <td>tm190788</td>\n",
              "      <td>The Exorcist</td>\n",
              "      <td>MOVIE</td>\n",
              "      <td>12-year-old Regan MacNeil begins to adapt an e...</td>\n",
              "      <td>1973</td>\n",
              "      <td>R</td>\n",
              "      <td>133</td>\n",
              "      <td>['horror']</td>\n",
              "      <td>['US']</td>\n",
              "      <td>NaN</td>\n",
              "      <td>tt0070047</td>\n",
              "      <td>8.1</td>\n",
              "      <td>391942.0</td>\n",
              "      <td>95.337</td>\n",
              "      <td>7.7</td>\n",
              "    </tr>\n",
              "  </tbody>\n",
              "</table>\n",
              "</div>\n",
              "    <div class=\"colab-df-buttons\">\n",
              "\n",
              "  <div class=\"colab-df-container\">\n",
              "    <button class=\"colab-df-convert\" onclick=\"convertToInteractive('df-3fc6bf4d-97dd-4862-ac84-88c03271d5ca')\"\n",
              "            title=\"Convert this dataframe to an interactive table.\"\n",
              "            style=\"display:none;\">\n",
              "\n",
              "  <svg xmlns=\"http://www.w3.org/2000/svg\" height=\"24px\" viewBox=\"0 -960 960 960\">\n",
              "    <path d=\"M120-120v-720h720v720H120Zm60-500h600v-160H180v160Zm220 220h160v-160H400v160Zm0 220h160v-160H400v160ZM180-400h160v-160H180v160Zm440 0h160v-160H620v160ZM180-180h160v-160H180v160Zm440 0h160v-160H620v160Z\"/>\n",
              "  </svg>\n",
              "    </button>\n",
              "\n",
              "  <style>\n",
              "    .colab-df-container {\n",
              "      display:flex;\n",
              "      gap: 12px;\n",
              "    }\n",
              "\n",
              "    .colab-df-convert {\n",
              "      background-color: #E8F0FE;\n",
              "      border: none;\n",
              "      border-radius: 50%;\n",
              "      cursor: pointer;\n",
              "      display: none;\n",
              "      fill: #1967D2;\n",
              "      height: 32px;\n",
              "      padding: 0 0 0 0;\n",
              "      width: 32px;\n",
              "    }\n",
              "\n",
              "    .colab-df-convert:hover {\n",
              "      background-color: #E2EBFA;\n",
              "      box-shadow: 0px 1px 2px rgba(60, 64, 67, 0.3), 0px 1px 3px 1px rgba(60, 64, 67, 0.15);\n",
              "      fill: #174EA6;\n",
              "    }\n",
              "\n",
              "    .colab-df-buttons div {\n",
              "      margin-bottom: 4px;\n",
              "    }\n",
              "\n",
              "    [theme=dark] .colab-df-convert {\n",
              "      background-color: #3B4455;\n",
              "      fill: #D2E3FC;\n",
              "    }\n",
              "\n",
              "    [theme=dark] .colab-df-convert:hover {\n",
              "      background-color: #434B5C;\n",
              "      box-shadow: 0px 1px 3px 1px rgba(0, 0, 0, 0.15);\n",
              "      filter: drop-shadow(0px 1px 2px rgba(0, 0, 0, 0.3));\n",
              "      fill: #FFFFFF;\n",
              "    }\n",
              "  </style>\n",
              "\n",
              "    <script>\n",
              "      const buttonEl =\n",
              "        document.querySelector('#df-3fc6bf4d-97dd-4862-ac84-88c03271d5ca button.colab-df-convert');\n",
              "      buttonEl.style.display =\n",
              "        google.colab.kernel.accessAllowed ? 'block' : 'none';\n",
              "\n",
              "      async function convertToInteractive(key) {\n",
              "        const element = document.querySelector('#df-3fc6bf4d-97dd-4862-ac84-88c03271d5ca');\n",
              "        const dataTable =\n",
              "          await google.colab.kernel.invokeFunction('convertToInteractive',\n",
              "                                                    [key], {});\n",
              "        if (!dataTable) return;\n",
              "\n",
              "        const docLinkHtml = 'Like what you see? Visit the ' +\n",
              "          '<a target=\"_blank\" href=https://colab.research.google.com/notebooks/data_table.ipynb>data table notebook</a>'\n",
              "          + ' to learn more about interactive tables.';\n",
              "        element.innerHTML = '';\n",
              "        dataTable['output_type'] = 'display_data';\n",
              "        await google.colab.output.renderOutput(dataTable, element);\n",
              "        const docLink = document.createElement('div');\n",
              "        docLink.innerHTML = docLinkHtml;\n",
              "        element.appendChild(docLink);\n",
              "      }\n",
              "    </script>\n",
              "  </div>\n",
              "\n",
              "\n",
              "<div id=\"df-de59de5c-5b26-408b-bdec-b490cecd53d7\">\n",
              "  <button class=\"colab-df-quickchart\" onclick=\"quickchart('df-de59de5c-5b26-408b-bdec-b490cecd53d7')\"\n",
              "            title=\"Suggest charts\"\n",
              "            style=\"display:none;\">\n",
              "\n",
              "<svg xmlns=\"http://www.w3.org/2000/svg\" height=\"24px\"viewBox=\"0 0 24 24\"\n",
              "     width=\"24px\">\n",
              "    <g>\n",
              "        <path d=\"M19 3H5c-1.1 0-2 .9-2 2v14c0 1.1.9 2 2 2h14c1.1 0 2-.9 2-2V5c0-1.1-.9-2-2-2zM9 17H7v-7h2v7zm4 0h-2V7h2v10zm4 0h-2v-4h2v4z\"/>\n",
              "    </g>\n",
              "</svg>\n",
              "  </button>\n",
              "\n",
              "<style>\n",
              "  .colab-df-quickchart {\n",
              "      --bg-color: #E8F0FE;\n",
              "      --fill-color: #1967D2;\n",
              "      --hover-bg-color: #E2EBFA;\n",
              "      --hover-fill-color: #174EA6;\n",
              "      --disabled-fill-color: #AAA;\n",
              "      --disabled-bg-color: #DDD;\n",
              "  }\n",
              "\n",
              "  [theme=dark] .colab-df-quickchart {\n",
              "      --bg-color: #3B4455;\n",
              "      --fill-color: #D2E3FC;\n",
              "      --hover-bg-color: #434B5C;\n",
              "      --hover-fill-color: #FFFFFF;\n",
              "      --disabled-bg-color: #3B4455;\n",
              "      --disabled-fill-color: #666;\n",
              "  }\n",
              "\n",
              "  .colab-df-quickchart {\n",
              "    background-color: var(--bg-color);\n",
              "    border: none;\n",
              "    border-radius: 50%;\n",
              "    cursor: pointer;\n",
              "    display: none;\n",
              "    fill: var(--fill-color);\n",
              "    height: 32px;\n",
              "    padding: 0;\n",
              "    width: 32px;\n",
              "  }\n",
              "\n",
              "  .colab-df-quickchart:hover {\n",
              "    background-color: var(--hover-bg-color);\n",
              "    box-shadow: 0 1px 2px rgba(60, 64, 67, 0.3), 0 1px 3px 1px rgba(60, 64, 67, 0.15);\n",
              "    fill: var(--button-hover-fill-color);\n",
              "  }\n",
              "\n",
              "  .colab-df-quickchart-complete:disabled,\n",
              "  .colab-df-quickchart-complete:disabled:hover {\n",
              "    background-color: var(--disabled-bg-color);\n",
              "    fill: var(--disabled-fill-color);\n",
              "    box-shadow: none;\n",
              "  }\n",
              "\n",
              "  .colab-df-spinner {\n",
              "    border: 2px solid var(--fill-color);\n",
              "    border-color: transparent;\n",
              "    border-bottom-color: var(--fill-color);\n",
              "    animation:\n",
              "      spin 1s steps(1) infinite;\n",
              "  }\n",
              "\n",
              "  @keyframes spin {\n",
              "    0% {\n",
              "      border-color: transparent;\n",
              "      border-bottom-color: var(--fill-color);\n",
              "      border-left-color: var(--fill-color);\n",
              "    }\n",
              "    20% {\n",
              "      border-color: transparent;\n",
              "      border-left-color: var(--fill-color);\n",
              "      border-top-color: var(--fill-color);\n",
              "    }\n",
              "    30% {\n",
              "      border-color: transparent;\n",
              "      border-left-color: var(--fill-color);\n",
              "      border-top-color: var(--fill-color);\n",
              "      border-right-color: var(--fill-color);\n",
              "    }\n",
              "    40% {\n",
              "      border-color: transparent;\n",
              "      border-right-color: var(--fill-color);\n",
              "      border-top-color: var(--fill-color);\n",
              "    }\n",
              "    60% {\n",
              "      border-color: transparent;\n",
              "      border-right-color: var(--fill-color);\n",
              "    }\n",
              "    80% {\n",
              "      border-color: transparent;\n",
              "      border-right-color: var(--fill-color);\n",
              "      border-bottom-color: var(--fill-color);\n",
              "    }\n",
              "    90% {\n",
              "      border-color: transparent;\n",
              "      border-bottom-color: var(--fill-color);\n",
              "    }\n",
              "  }\n",
              "</style>\n",
              "\n",
              "  <script>\n",
              "    async function quickchart(key) {\n",
              "      const quickchartButtonEl =\n",
              "        document.querySelector('#' + key + ' button');\n",
              "      quickchartButtonEl.disabled = true;  // To prevent multiple clicks.\n",
              "      quickchartButtonEl.classList.add('colab-df-spinner');\n",
              "      try {\n",
              "        const charts = await google.colab.kernel.invokeFunction(\n",
              "            'suggestCharts', [key], {});\n",
              "      } catch (error) {\n",
              "        console.error('Error during call to suggestCharts:', error);\n",
              "      }\n",
              "      quickchartButtonEl.classList.remove('colab-df-spinner');\n",
              "      quickchartButtonEl.classList.add('colab-df-quickchart-complete');\n",
              "    }\n",
              "    (() => {\n",
              "      let quickchartButtonEl =\n",
              "        document.querySelector('#df-de59de5c-5b26-408b-bdec-b490cecd53d7 button');\n",
              "      quickchartButtonEl.style.display =\n",
              "        google.colab.kernel.accessAllowed ? 'block' : 'none';\n",
              "    })();\n",
              "  </script>\n",
              "</div>\n",
              "    </div>\n",
              "  </div>\n"
            ],
            "application/vnd.google.colaboratory.intrinsic+json": {
              "type": "dataframe",
              "variable_name": "df",
              "summary": "{\n  \"name\": \"df\",\n  \"rows\": 5806,\n  \"fields\": [\n    {\n      \"column\": \"id\",\n      \"properties\": {\n        \"dtype\": \"string\",\n        \"num_unique_values\": 5806,\n        \"samples\": [\n          \"tm34524\",\n          \"ts84341\",\n          \"ts90511\"\n        ],\n        \"semantic_type\": \"\",\n        \"description\": \"\"\n      }\n    },\n    {\n      \"column\": \"title\",\n      \"properties\": {\n        \"dtype\": \"string\",\n        \"num_unique_values\": 5751,\n        \"samples\": [\n          \"Inside the Criminal Mind\",\n          \"Luna Park\",\n          \"Klaus\"\n        ],\n        \"semantic_type\": \"\",\n        \"description\": \"\"\n      }\n    },\n    {\n      \"column\": \"type\",\n      \"properties\": {\n        \"dtype\": \"category\",\n        \"num_unique_values\": 2,\n        \"samples\": [\n          \"MOVIE\",\n          \"SHOW\"\n        ],\n        \"semantic_type\": \"\",\n        \"description\": \"\"\n      }\n    },\n    {\n      \"column\": \"description\",\n      \"properties\": {\n        \"dtype\": \"string\",\n        \"num_unique_values\": 5785,\n        \"samples\": [\n          \"The spotlight's on Parch\\u00eds, a record company-created Spanish boy/girl band that had unprecedented success with Top 10 songs and hit films in the '80s.\",\n          \"Two best friends embark on a life-changing adventure abroad as exchange students.\"\n        ],\n        \"semantic_type\": \"\",\n        \"description\": \"\"\n      }\n    },\n    {\n      \"column\": \"release_year\",\n      \"properties\": {\n        \"dtype\": \"number\",\n        \"std\": 7,\n        \"min\": 1945,\n        \"max\": 2022,\n        \"num_unique_values\": 67,\n        \"samples\": [\n          2000,\n          1972\n        ],\n        \"semantic_type\": \"\",\n        \"description\": \"\"\n      }\n    },\n    {\n      \"column\": \"age_certification\",\n      \"properties\": {\n        \"dtype\": \"category\",\n        \"num_unique_values\": 11,\n        \"samples\": [\n          \"PG-13\",\n          \"TV-MA\"\n        ],\n        \"semantic_type\": \"\",\n        \"description\": \"\"\n      }\n    },\n    {\n      \"column\": \"runtime\",\n      \"properties\": {\n        \"dtype\": \"number\",\n        \"std\": 39,\n        \"min\": 0,\n        \"max\": 251,\n        \"num_unique_values\": 205,\n        \"samples\": [\n          115,\n          110\n        ],\n        \"semantic_type\": \"\",\n        \"description\": \"\"\n      }\n    },\n    {\n      \"column\": \"genres\",\n      \"properties\": {\n        \"dtype\": \"category\",\n        \"num_unique_values\": 1626,\n        \"samples\": [\n          \"['thriller', 'horror', 'drama', 'fantasy']\",\n          \"['drama', 'comedy', 'scifi']\"\n        ],\n        \"semantic_type\": \"\",\n        \"description\": \"\"\n      }\n    },\n    {\n      \"column\": \"production_countries\",\n      \"properties\": {\n        \"dtype\": \"category\",\n        \"num_unique_values\": 449,\n        \"samples\": [\n          \"['GE']\",\n          \"['FR', 'PS', 'CH', 'QA']\"\n        ],\n        \"semantic_type\": \"\",\n        \"description\": \"\"\n      }\n    },\n    {\n      \"column\": \"seasons\",\n      \"properties\": {\n        \"dtype\": \"number\",\n        \"std\": 2.6362072879415512,\n        \"min\": 1.0,\n        \"max\": 42.0,\n        \"num_unique_values\": 23,\n        \"samples\": [\n          14.0,\n          21.0\n        ],\n        \"semantic_type\": \"\",\n        \"description\": \"\"\n      }\n    },\n    {\n      \"column\": \"imdb_id\",\n      \"properties\": {\n        \"dtype\": \"string\",\n        \"num_unique_values\": 5362,\n        \"samples\": [\n          \"tt14676004\",\n          \"tt12875782\"\n        ],\n        \"semantic_type\": \"\",\n        \"description\": \"\"\n      }\n    },\n    {\n      \"column\": \"imdb_score\",\n      \"properties\": {\n        \"dtype\": \"number\",\n        \"std\": 1.1609316079694796,\n        \"min\": 1.5,\n        \"max\": 9.6,\n        \"num_unique_values\": 81,\n        \"samples\": [\n          7.9,\n          8.3\n        ],\n        \"semantic_type\": \"\",\n        \"description\": \"\"\n      }\n    },\n    {\n      \"column\": \"imdb_votes\",\n      \"properties\": {\n        \"dtype\": \"number\",\n        \"std\": 87134.31584878248,\n        \"min\": 5.0,\n        \"max\": 2268288.0,\n        \"num_unique_values\": 3831,\n        \"samples\": [\n          456.0,\n          6649.0\n        ],\n        \"semantic_type\": \"\",\n        \"description\": \"\"\n      }\n    },\n    {\n      \"column\": \"tmdb_popularity\",\n      \"properties\": {\n        \"dtype\": \"number\",\n        \"std\": 68.8491769566008,\n        \"min\": 0.0094417458789051,\n        \"max\": 1823.374,\n        \"num_unique_values\": 4943,\n        \"samples\": [\n          24.125,\n          1.492\n        ],\n        \"semantic_type\": \"\",\n        \"description\": \"\"\n      }\n    },\n    {\n      \"column\": \"tmdb_score\",\n      \"properties\": {\n        \"dtype\": \"number\",\n        \"std\": 1.1715597437549945,\n        \"min\": 0.5,\n        \"max\": 10.0,\n        \"num_unique_values\": 78,\n        \"samples\": [\n          6.4,\n          8.2\n        ],\n        \"semantic_type\": \"\",\n        \"description\": \"\"\n      }\n    }\n  ]\n}"
            }
          },
          "metadata": {},
          "execution_count": 4
        }
      ]
    },
    {
      "cell_type": "code",
      "source": [
        "df.info()"
      ],
      "metadata": {
        "colab": {
          "base_uri": "https://localhost:8080/"
        },
        "id": "suzuXd-kTUOS",
        "outputId": "a9a4a3ad-ecc5-43f5-a043-e5ecff312c44"
      },
      "execution_count": null,
      "outputs": [
        {
          "output_type": "stream",
          "name": "stdout",
          "text": [
            "<class 'pandas.core.frame.DataFrame'>\n",
            "RangeIndex: 5806 entries, 0 to 5805\n",
            "Data columns (total 15 columns):\n",
            " #   Column                Non-Null Count  Dtype  \n",
            "---  ------                --------------  -----  \n",
            " 0   id                    5806 non-null   object \n",
            " 1   title                 5805 non-null   object \n",
            " 2   type                  5806 non-null   object \n",
            " 3   description           5788 non-null   object \n",
            " 4   release_year          5806 non-null   int64  \n",
            " 5   age_certification     3196 non-null   object \n",
            " 6   runtime               5806 non-null   int64  \n",
            " 7   genres                5806 non-null   object \n",
            " 8   production_countries  5806 non-null   object \n",
            " 9   seasons               2047 non-null   float64\n",
            " 10  imdb_id               5362 non-null   object \n",
            " 11  imdb_score            5283 non-null   float64\n",
            " 12  imdb_votes            5267 non-null   float64\n",
            " 13  tmdb_popularity       5712 non-null   float64\n",
            " 14  tmdb_score            5488 non-null   float64\n",
            "dtypes: float64(5), int64(2), object(8)\n",
            "memory usage: 680.5+ KB\n"
          ]
        }
      ]
    },
    {
      "cell_type": "markdown",
      "source": [
        "<h2>Data preparation</h2>"
      ],
      "metadata": {
        "id": "VRy2rO90ThRC"
      }
    },
    {
      "cell_type": "code",
      "source": [
        "df.columns"
      ],
      "metadata": {
        "id": "Go-DjXclTVSg",
        "colab": {
          "base_uri": "https://localhost:8080/"
        },
        "outputId": "ddfc0e3b-7568-41e3-84d2-d25c3e2afdba"
      },
      "execution_count": null,
      "outputs": [
        {
          "output_type": "execute_result",
          "data": {
            "text/plain": [
              "Index(['id', 'title', 'type', 'description', 'release_year',\n",
              "       'age_certification', 'runtime', 'genres', 'production_countries',\n",
              "       'seasons', 'imdb_id', 'imdb_score', 'imdb_votes', 'tmdb_popularity',\n",
              "       'tmdb_score'],\n",
              "      dtype='object')"
            ]
          },
          "metadata": {},
          "execution_count": 6
        }
      ]
    },
    {
      "cell_type": "code",
      "source": [
        "# Function to prepare example conversations based on the dataset\n",
        "def prepare_example_conversation(row):\n",
        "    # System message that explains the role of the model\n",
        "    system_message = \"You are an intelligent movie recommendation assistant. You should use the provided information to make content suggestions based on user queries.\"\n",
        "\n",
        "    # Prepare the user message with details about the show or movie\n",
        "    user_message = f\"Title: {row['title']} | Type: {row['type']} | Description: {row['description']} | Release Year: {row['release_year']} | Runtime: {row['runtime']} minutes | Genres: {row['genres']} | Seasons: {row['seasons']} | IMDb Score: {row['imdb_score']} | IMDb Votes: {row['imdb_votes']}\"\n",
        "\n",
        "    # Prepare the conversation\n",
        "    messages = []\n",
        "    messages.append({\"role\": \"system\", \"content\": system_message})\n",
        "    messages.append({\"role\": \"user\", \"content\": user_message})\n",
        "\n",
        "    # Assistant's response using the details (use any relevant data or prompt completions)\n",
        "    completion = f\"Based on the information, I recommend watching {row['title']} if you enjoy {row['genres']} genre with a good rating of {row['imdb_score']}.\"\n",
        "    messages.append({\"role\": \"assistant\", \"content\": completion})\n",
        "\n",
        "    return {\"messages\": messages}\n",
        "\n",
        "# Apply the function to the entire dataset (or a subset if needed)\n",
        "training_data = df.apply(prepare_example_conversation, axis=1).tolist()\n",
        "\n",
        "# Function to write the examples to a jsonl file\n",
        "def write_jsonl(data_list, filename):\n",
        "    with open(filename, 'w') as outfile:\n",
        "        for entry in data_list:\n",
        "            json.dump(entry, outfile)\n",
        "            outfile.write('\\n')\n",
        "\n",
        "# Writing out the training data\n",
        "write_jsonl(training_data, 'training_data.jsonl')\n",
        "\n",
        "# Displaying a few examples to verify\n",
        "for example in training_data[:5]:\n",
        "    print(example)"
      ],
      "metadata": {
        "colab": {
          "base_uri": "https://localhost:8080/"
        },
        "id": "6MVt49kAJgvN",
        "outputId": "cbd01859-5b53-44dc-dc8b-899700b86e59"
      },
      "execution_count": null,
      "outputs": [
        {
          "output_type": "stream",
          "name": "stdout",
          "text": [
            "{'messages': [{'role': 'system', 'content': 'You are an intelligent movie recommendation assistant. You should use the provided information to make content suggestions based on user queries.'}, {'role': 'user', 'content': 'Title: Five Came Back: The Reference Films | Type: SHOW | Description: This collection includes 12 World War II-era propaganda films — many of which are graphic and offensive — discussed in the docuseries \"Five Came Back.\" | Release Year: 1945 | Runtime: 48 minutes | Genres: [\\'documentation\\'] | Seasons: 1.0 | IMDb Score: nan | IMDb Votes: nan'}, {'role': 'assistant', 'content': \"Based on the information, I recommend watching Five Came Back: The Reference Films if you enjoy ['documentation'] genre with a good rating of nan.\"}]}\n",
            "{'messages': [{'role': 'system', 'content': 'You are an intelligent movie recommendation assistant. You should use the provided information to make content suggestions based on user queries.'}, {'role': 'user', 'content': \"Title: Taxi Driver | Type: MOVIE | Description: A mentally unstable Vietnam War veteran works as a night-time taxi driver in New York City where the perceived decadence and sleaze feed his urge for violent action, attempting to save a preadolescent prostitute in the process. | Release Year: 1976 | Runtime: 113 minutes | Genres: ['crime', 'drama'] | Seasons: nan | IMDb Score: 8.3 | IMDb Votes: 795222.0\"}, {'role': 'assistant', 'content': \"Based on the information, I recommend watching Taxi Driver if you enjoy ['crime', 'drama'] genre with a good rating of 8.3.\"}]}\n",
            "{'messages': [{'role': 'system', 'content': 'You are an intelligent movie recommendation assistant. You should use the provided information to make content suggestions based on user queries.'}, {'role': 'user', 'content': 'Title: Monty Python and the Holy Grail | Type: MOVIE | Description: King Arthur, accompanied by his squire, recruits his Knights of the Round Table, including Sir Bedevere the Wise, Sir Lancelot the Brave, Sir Robin the Not-Quite-So-Brave-As-Sir-Lancelot and Sir Galahad the Pure. On the way, Arthur battles the Black Knight who, despite having had all his limbs chopped off, insists he can still fight. They reach Camelot, but Arthur decides not  to enter, as \"it is a silly place\". | Release Year: 1975 | Runtime: 91 minutes | Genres: [\\'comedy\\', \\'fantasy\\'] | Seasons: nan | IMDb Score: 8.2 | IMDb Votes: 530877.0'}, {'role': 'assistant', 'content': \"Based on the information, I recommend watching Monty Python and the Holy Grail if you enjoy ['comedy', 'fantasy'] genre with a good rating of 8.2.\"}]}\n",
            "{'messages': [{'role': 'system', 'content': 'You are an intelligent movie recommendation assistant. You should use the provided information to make content suggestions based on user queries.'}, {'role': 'user', 'content': \"Title: Life of Brian | Type: MOVIE | Description: Brian Cohen is an average young Jewish man, but through a series of ridiculous events, he gains a reputation as the Messiah. When he's not dodging his followers or being scolded by his shrill mother, the hapless Brian has to contend with the pompous Pontius Pilate and acronym-obsessed members of a separatist movement. Rife with Monty Python's signature absurdity, the tale finds Brian's life paralleling Biblical lore, albeit with many more laughs. | Release Year: 1979 | Runtime: 94 minutes | Genres: ['comedy'] | Seasons: nan | IMDb Score: 8.0 | IMDb Votes: 392419.0\"}, {'role': 'assistant', 'content': \"Based on the information, I recommend watching Life of Brian if you enjoy ['comedy'] genre with a good rating of 8.0.\"}]}\n",
            "{'messages': [{'role': 'system', 'content': 'You are an intelligent movie recommendation assistant. You should use the provided information to make content suggestions based on user queries.'}, {'role': 'user', 'content': \"Title: The Exorcist | Type: MOVIE | Description: 12-year-old Regan MacNeil begins to adapt an explicit new personality as strange events befall the local area of Georgetown. Her mother becomes torn between science and superstition in a desperate bid to save her daughter, and ultimately turns to her last hope: Father Damien Karras, a troubled priest who is struggling with his own faith. | Release Year: 1973 | Runtime: 133 minutes | Genres: ['horror'] | Seasons: nan | IMDb Score: 8.1 | IMDb Votes: 391942.0\"}, {'role': 'assistant', 'content': \"Based on the information, I recommend watching The Exorcist if you enjoy ['horror'] genre with a good rating of 8.1.\"}]}\n"
          ]
        }
      ]
    },
    {
      "cell_type": "code",
      "source": [
        "# Prepare training data from a subset of the dataset\n",
        "training_df = df.iloc[5577:5777]\n",
        "training_data = training_df.apply(prepare_example_conversation, axis=1).tolist()\n",
        "\n",
        "# Prepare validation data from a different subset to avoid overlap\n",
        "validation_df = df.iloc[5777:]\n",
        "validation_data = validation_df.apply(prepare_example_conversation, axis=1).tolist()\n",
        "\n",
        "# Function to write the data to jsonl files\n",
        "def write_jsonl(data_list, filename):\n",
        "    with open(filename, 'w') as outfile:\n",
        "        for entry in data_list:\n",
        "            json.dump(entry, outfile)\n",
        "            outfile.write('\\n')\n",
        "\n",
        "# Write the training and validation data to jsonl files\n",
        "training_file_name = \"netflix_titles_finetune_training.jsonl\"\n",
        "validation_file_name = \"netflix_titles_finetune_validation.jsonl\"\n",
        "\n",
        "write_jsonl(training_data, training_file_name)\n",
        "write_jsonl(validation_data, validation_file_name)"
      ],
      "metadata": {
        "id": "zA-DhppnP0Kj"
      },
      "execution_count": null,
      "outputs": []
    },
    {
      "cell_type": "code",
      "source": [
        "# Print the first 5 lines of the training file to check\n",
        "!head -n 5 netflix_titles_finetune_training.jsonl"
      ],
      "metadata": {
        "colab": {
          "base_uri": "https://localhost:8080/"
        },
        "id": "h926rpzdVuAu",
        "outputId": "3be4279e-c6fb-4591-f61e-4e978abfc2b2"
      },
      "execution_count": null,
      "outputs": [
        {
          "output_type": "stream",
          "name": "stdout",
          "text": [
            "{\"messages\": [{\"role\": \"system\", \"content\": \"You are an intelligent movie recommendation assistant. You should use the provided information to make content suggestions based on user queries.\"}, {\"role\": \"user\", \"content\": \"Title: Love Tactics | Type: MOVIE | Description: An ad executive and a fashion designer-blogger don't believe in love, so they place a bet to make the other fall head over heels - with unusual tactics. | Release Year: 2022 | Runtime: 97 minutes | Genres: ['romance'] | Seasons: nan | IMDb Score: 5.1 | IMDb Votes: 3436.0\"}, {\"role\": \"assistant\", \"content\": \"Based on the information, I recommend watching Love Tactics if you enjoy ['romance'] genre with a good rating of 5.1.\"}]}\n",
            "{\"messages\": [{\"role\": \"system\", \"content\": \"You are an intelligent movie recommendation assistant. You should use the provided information to make content suggestions based on user queries.\"}, {\"role\": \"user\", \"content\": \"Title: Roohi | Type: MOVIE | Description: Roohi is set in a fictional town of North India. The film revolves around two small-town boys Bhaura and Kattanni who are stuck in a forest with Roohi. But there\\u2019s an insidious spirit following them with feet turned backwards. | Release Year: 2021 | Runtime: 134 minutes | Genres: ['comedy', 'horror'] | Seasons: nan | IMDb Score: 4.4 | IMDb Votes: 9912.0\"}, {\"role\": \"assistant\", \"content\": \"Based on the information, I recommend watching Roohi if you enjoy ['comedy', 'horror'] genre with a good rating of 4.4.\"}]}\n",
            "{\"messages\": [{\"role\": \"system\", \"content\": \"You are an intelligent movie recommendation assistant. You should use the provided information to make content suggestions based on user queries.\"}, {\"role\": \"user\", \"content\": \"Title: Dive Club | Type: SHOW | Description: Dive Club follows the story of a feisty group of teen divers who search for their friend when she disappears after a cyclone hits Cape Mercy, their small coastal town. | Release Year: 2021 | Runtime: 0 minutes | Genres: ['drama', 'family'] | Seasons: 1.0 | IMDb Score: 6.2 | IMDb Votes: 789.0\"}, {\"role\": \"assistant\", \"content\": \"Based on the information, I recommend watching Dive Club if you enjoy ['drama', 'family'] genre with a good rating of 6.2.\"}]}\n",
            "{\"messages\": [{\"role\": \"system\", \"content\": \"You are an intelligent movie recommendation assistant. You should use the provided information to make content suggestions based on user queries.\"}, {\"role\": \"user\", \"content\": \"Title: Elize Matsunaga: Once Upon a Crime | Type: SHOW | Description: The crime shocked Brazil: Elize Matsunaga shot and dismembered her rich husband. Featuring her first interview, this docuseries dives deep into the case. | Release Year: 2021 | Runtime: 49 minutes | Genres: ['crime', 'documentation'] | Seasons: 1.0 | IMDb Score: 5.9 | IMDb Votes: 2088.0\"}, {\"role\": \"assistant\", \"content\": \"Based on the information, I recommend watching Elize Matsunaga: Once Upon a Crime if you enjoy ['crime', 'documentation'] genre with a good rating of 5.9.\"}]}\n",
            "{\"messages\": [{\"role\": \"system\", \"content\": \"You are an intelligent movie recommendation assistant. You should use the provided information to make content suggestions based on user queries.\"}, {\"role\": \"user\", \"content\": \"Title: Asakusa Kid | Type: MOVIE | Description: In 1965, Takeshi Kitano drops out of a university and enters the Asakusa France Za, which is a performance theater. He becomes an apprentice to Senzaburo Fukami, who is a legendary entertainer. Senzaburo Fukami demands that Takeshi Kitano keep the mindset of an entertainer, not only on stage, but also in his daily life. Takeshi Kitano cultivates his dream of becoming an entertainer with other apprentices. Due to the popularity of TV, people attend the theater less and less, but Takeshi Kitano spends his youthful days with Senzaburo Fukami and other apprentices who are full of talent and unique personalities. | Release Year: 2021 | Runtime: 123 minutes | Genres: ['drama'] | Seasons: nan | IMDb Score: 7.1 | IMDb Votes: 1090.0\"}, {\"role\": \"assistant\", \"content\": \"Based on the information, I recommend watching Asakusa Kid if you enjoy ['drama'] genre with a good rating of 7.1.\"}]}\n"
          ]
        }
      ]
    },
    {
      "cell_type": "code",
      "source": [
        "# Upload the training file\n",
        "with open(training_file_name, \"rb\") as training_fd:\n",
        "    training_response = client.files.create(\n",
        "        file=training_fd, purpose=\"fine-tune\"\n",
        "    )\n",
        "training_file_id = training_response.id\n",
        "\n",
        "# Upload the validation file\n",
        "with open(validation_file_name, \"rb\") as validation_fd:\n",
        "    validation_response = client.files.create(\n",
        "        file=validation_fd, purpose=\"fine-tune\"\n",
        "    )\n",
        "validation_file_id = validation_response.id\n",
        "\n",
        "print(\"Training file ID:\", training_file_id)\n",
        "print(\"Validation file ID:\", validation_file_id)"
      ],
      "metadata": {
        "colab": {
          "base_uri": "https://localhost:8080/"
        },
        "id": "ap0Z-lTuVwYp",
        "outputId": "f623e636-409c-456f-ffdf-3bd43630b00b"
      },
      "execution_count": null,
      "outputs": [
        {
          "output_type": "stream",
          "name": "stdout",
          "text": [
            "Training file ID: file-CFoWm7gtPATgkpg02X2JGbep\n",
            "Validation file ID: file-ZeNM4TO3BNSUX4V8thDgROT0\n"
          ]
        }
      ]
    },
    {
      "cell_type": "markdown",
      "source": [
        "## Fine-tuning\n"
      ],
      "metadata": {
        "id": "_VV60LMixMkz"
      }
    },
    {
      "cell_type": "code",
      "source": [
        "# Create the fine-tuning job\n",
        "try:\n",
        "    response = client.fine_tuning.jobs.create(\n",
        "        training_file=training_file_id,\n",
        "        validation_file=validation_file_id,\n",
        "        model=\"gpt-3.5-turbo\",\n",
        "        suffix=\"recommendation\"\n",
        "    )\n",
        "    job_id = response.id\n",
        "    print(\"Job ID:\", job_id)\n",
        "    print(\"Status:\", response.status)\n",
        "except Exception as e:\n",
        "    print(\"Error creating fine-tuning job:\", str(e))\n",
        "\n",
        "# Function to check the status of the fine-tuning job\n",
        "def check_job_status(job_id):\n",
        "    response = client.fine_tuning.jobs.retrieve(job_id)\n",
        "    print(\"Job ID:\", response.id)\n",
        "    print(\"Status:\", response.status)\n",
        "    if 'trained_tokens' in response:\n",
        "        print(\"Trained Tokens:\", response.trained_tokens)\n",
        "\n",
        "# Call the function to check job status\n",
        "check_job_status(job_id)"
      ],
      "metadata": {
        "colab": {
          "base_uri": "https://localhost:8080/"
        },
        "id": "6ocS2rSCXQT4",
        "outputId": "fc50b6b7-302e-4de5-f100-0b3fc17b7cbd"
      },
      "execution_count": null,
      "outputs": [
        {
          "output_type": "stream",
          "name": "stdout",
          "text": [
            "Job ID: ftjob-umRkiIYpheQiN47F3fDeeQL9\n",
            "Status: validating_files\n",
            "Job ID: ftjob-umRkiIYpheQiN47F3fDeeQL9\n",
            "Status: validating_files\n"
          ]
        }
      ]
    },
    {
      "cell_type": "markdown",
      "source": [
        "We can track the progress of the fine-tune with the events endpoint. You can rerun the cell below a few times until the fine-tune is ready."
      ],
      "metadata": {
        "id": "84a25HC3xG9q"
      }
    },
    {
      "cell_type": "code",
      "source": [
        "# Function to get events of the fine-tuning job\n",
        "def get_job_events(job_id):\n",
        "    response = client.fine_tuning.jobs.list_events(job_id)\n",
        "    events = response.data\n",
        "    events.reverse()  # Reverse to show the latest events first\n",
        "    for event in events:\n",
        "        print(event.message)\n",
        "\n",
        "# Optionally, call the function to get job events\n",
        "get_job_events(job_id)"
      ],
      "metadata": {
        "colab": {
          "base_uri": "https://localhost:8080/"
        },
        "id": "ZVm2z9CRXQOn",
        "outputId": "17f0fe6a-706b-4ab6-b92b-c1c54a2dbecb"
      },
      "execution_count": null,
      "outputs": [
        {
          "output_type": "stream",
          "name": "stdout",
          "text": [
            "Step 585/600: training loss=0.00\n",
            "Step 586/600: training loss=0.00\n",
            "Step 587/600: training loss=0.00\n",
            "Step 588/600: training loss=0.00\n",
            "Step 589/600: training loss=0.00\n",
            "Step 590/600: training loss=0.00, validation loss=0.00\n",
            "Step 591/600: training loss=0.00\n",
            "Step 592/600: training loss=0.00\n",
            "Step 593/600: training loss=0.00\n",
            "Step 594/600: training loss=0.00\n",
            "Step 595/600: training loss=0.00\n",
            "Step 596/600: training loss=0.00\n",
            "Step 597/600: training loss=0.00\n",
            "Step 598/600: training loss=0.00\n",
            "Step 599/600: training loss=0.00\n",
            "Step 600/600: training loss=0.00, validation loss=0.00, full validation loss=0.00\n",
            "Checkpoint created at step 200 with Snapshot ID: ft:gpt-3.5-turbo-0125:personal:recommendation:9M7yOybX:ckpt-step-200\n",
            "Checkpoint created at step 400 with Snapshot ID: ft:gpt-3.5-turbo-0125:personal:recommendation:9M7yOLC0:ckpt-step-400\n",
            "New fine-tuned model created: ft:gpt-3.5-turbo-0125:personal:recommendation:9M7yOOo6\n",
            "The job has successfully completed\n"
          ]
        }
      ]
    },
    {
      "cell_type": "code",
      "source": [
        "# Function to retrieve the fine-tuned model ID\n",
        "def get_fine_tuned_model_id(job_id):\n",
        "    response = client.fine_tuning.jobs.retrieve(job_id)\n",
        "    if response.fine_tuned_model is None:\n",
        "        raise RuntimeError(\"Fine-tuned model ID not found. Your job has likely not been completed yet.\")\n",
        "    return response.fine_tuned_model\n",
        "\n",
        "# Once the job is done, retrieve the fine-tuned model ID\n",
        "fine_tuned_model_id = get_fine_tuned_model_id(job_id)\n",
        "print(\"Fine-tuned model ID:\", fine_tuned_model_id)"
      ],
      "metadata": {
        "colab": {
          "base_uri": "https://localhost:8080/"
        },
        "id": "LPGAfKy3BCqz",
        "outputId": "6e30ca59-2ba2-494d-99c2-581af87ad99a"
      },
      "execution_count": null,
      "outputs": [
        {
          "output_type": "stream",
          "name": "stdout",
          "text": [
            "Fine-tuned model ID: ft:gpt-3.5-turbo-0125:personal:recommendation:9M7yOOo6\n"
          ]
        }
      ]
    },
    {
      "cell_type": "markdown",
      "source": [
        "## Inference"
      ],
      "metadata": {
        "id": "8Wj0dSamw646"
      }
    },
    {
      "cell_type": "code",
      "source": [
        "test_df = df.iloc[:100]\n",
        "test_row = test_df.iloc[4]\n",
        "\n",
        "# System message explaining the role of the model\n",
        "system_message = \"You are an intelligent movie recommendation assistant. You should use the provided information to make content suggestions based on user queries.\"\n",
        "\n",
        "# Prepare the user message based on the selected row\n",
        "def create_user_message(row):\n",
        "    return f\"Title: {row['title']} | Type: {row['type']} | Description: {row['description']} | Release Year: {row['release_year']} | Runtime: {row['runtime']} minutes | Genres: {row['genres']} | Seasons: {row['seasons']} | IMDb Score: {row['imdb_score']} | IMDb Votes: {row['imdb_votes']}\"\n",
        "\n",
        "user_message = create_user_message(test_row)\n",
        "\n",
        "# Prepare the messages for the chat completion request\n",
        "test_messages = [\n",
        "    {\"role\": \"system\", \"content\": system_message},\n",
        "    {\"role\": \"user\", \"content\": user_message}\n",
        "]\n",
        "\n",
        "# Print the prepared messages for verification\n",
        "from pprint import pprint\n",
        "pprint(test_messages)"
      ],
      "metadata": {
        "colab": {
          "base_uri": "https://localhost:8080/"
        },
        "id": "qrMpcSYvmMB3",
        "outputId": "619a432e-696f-4091-9fd9-47dba3234882"
      },
      "execution_count": null,
      "outputs": [
        {
          "output_type": "stream",
          "name": "stdout",
          "text": [
            "[{'content': 'You are an intelligent movie recommendation assistant. You '\n",
            "             'should use the provided information to make content suggestions '\n",
            "             'based on user queries.',\n",
            "  'role': 'system'},\n",
            " {'content': 'Title: The Exorcist | Type: MOVIE | Description: 12-year-old '\n",
            "             'Regan MacNeil begins to adapt an explicit new personality as '\n",
            "             'strange events befall the local area of Georgetown. Her mother '\n",
            "             'becomes torn between science and superstition in a desperate bid '\n",
            "             'to save her daughter, and ultimately turns to her last hope: '\n",
            "             'Father Damien Karras, a troubled priest who is struggling with '\n",
            "             'his own faith. | Release Year: 1973 | Runtime: 133 minutes | '\n",
            "             \"Genres: ['horror'] | Seasons: nan | IMDb Score: 8.1 | IMDb \"\n",
            "             'Votes: 391942.0',\n",
            "  'role': 'user'}]\n"
          ]
        }
      ]
    },
    {
      "cell_type": "code",
      "source": [
        "# Make a chat completion request to the fine-tuned model\n",
        "response = client.chat.completions.create(\n",
        "    model=fine_tuned_model_id,  # Use your fine-tuned model ID\n",
        "    messages=test_messages,\n",
        "    temperature=0,  # Set to 0 for deterministic, consistent responses\n",
        "    max_tokens=500  # Adjust based on how verbose you expect the model to be\n",
        ")\n",
        "\n",
        "# Print the model's response\n",
        "print(response.choices[0].message.content)"
      ],
      "metadata": {
        "colab": {
          "base_uri": "https://localhost:8080/"
        },
        "id": "OSxobToZmL46",
        "outputId": "d451d29f-d540-411c-b9b2-33564161c199"
      },
      "execution_count": null,
      "outputs": [
        {
          "output_type": "stream",
          "name": "stdout",
          "text": [
            "Based on the information, I recommend watching The Exorcist if you enjoy ['horror'] genre with a good rating of 8.1.\n"
          ]
        }
      ]
    },
    {
      "cell_type": "markdown",
      "source": [
        "<h2>Asking the fine-tuned model for recommendations.</h2>"
      ],
      "metadata": {
        "id": "8MdPJy9Rwwl8"
      }
    },
    {
      "cell_type": "code",
      "source": [
        "# Function to ask a question to the fine-tuned model using the updated API\n",
        "def ask_model(question, fine_tuned_model_id):\n",
        "    # Prepare the system and user messages\n",
        "    system_message = {\n",
        "        \"role\": \"system\",\n",
        "        \"content\": \"You are an intelligent movie recommendation assistant.\"\n",
        "    }\n",
        "    user_message = {\n",
        "        \"role\": \"user\",\n",
        "        \"content\": question\n",
        "    }\n",
        "    messages = [system_message, user_message]  # Combine into a list of messages\n",
        "\n",
        "    try:\n",
        "        response = client.chat.completions.create(\n",
        "            model=fine_tuned_model_id,  # Use your fine-tuned model ID\n",
        "            messages=messages,\n",
        "            max_tokens=150,  # Adjust as necessary\n",
        "            n=1,\n",
        "            stop=None  # Define any stopping criteria if needed\n",
        "        )\n",
        "        return response\n",
        "    except Exception as e:\n",
        "        print(\"Error in asking model:\", str(e))\n",
        "        return []\n",
        "\n",
        "# Example questions\n",
        "questions = [\n",
        "    \"Suggest me a movie in horror genre with imdb rating of 8 and above.\",\n",
        "    \"Suggest me a TV show from the fantasy/science fiction genre and has less than 9 seasons.\",\n",
        "    \"Suggest me a movie in comedy and romance genre.\",\n",
        "    \"Suggest me a TV show from horror genre that was recently released.\",\n",
        "    \"Suggest a movie from action genre\",\n",
        "    \"Suggest a movie from drama genre with imdb rating of 7 and above.\"\n",
        "]\n",
        "\n",
        "for count, question in enumerate(questions):\n",
        "    print('\\n')\n",
        "    print(f\"{count+1}. Question: {question}\")\n",
        "    responses = ask_model(question, fine_tuned_model_id)\n",
        "    print(responses.choices[0].message.content)\n"
      ],
      "metadata": {
        "colab": {
          "base_uri": "https://localhost:8080/"
        },
        "id": "8KhtJxvIgHGd",
        "outputId": "f17b6711-9581-41a7-9649-45dc35294889"
      },
      "execution_count": null,
      "outputs": [
        {
          "output_type": "stream",
          "name": "stdout",
          "text": [
            "\n",
            "\n",
            "1. Question: Suggest me a movie in horror genre with imdb rating of 8 and above.\n",
            "I recommend watching \"The Conjuring\" if you enjoy horror genre with a good rating of 8 and above.\n",
            "\n",
            "\n",
            "2. Question: Suggest me a TV show from the fantasy/science fiction genre and has less than 9 seasons.\n",
            "I recommend watching Stranger Things if you enjoy the fantasy/science fiction genre and it has 8 seasons.\n",
            "\n",
            "\n",
            "3. Question: Suggest me a movie in comedy and romance genre.\n",
            "I recommend watching Crazy, Stupid, Love.\n",
            "\n",
            "\n",
            "4. Question: Suggest me a TV show from horror genre that was recently released.\n",
            "I recommend watching \"Midnight Mass\" if you enjoy horror genre and it was recently released.\n",
            "\n",
            "\n",
            "5. Question: Suggest a movie from action genre\n",
            "I recommend watching Die Hard if you enjoy action genre.\n",
            "\n",
            "\n",
            "6. Question: Suggest a movie from drama genre with imdb rating of 7 and above.\n",
            "I recommend watching The Shawshank Redemption, if you enjoy drama genre with imbd rating of 7 and above.\n"
          ]
        }
      ]
    },
    {
      "cell_type": "code",
      "source": [],
      "metadata": {
        "id": "6wP5165Le6xb"
      },
      "execution_count": null,
      "outputs": []
    }
  ],
  "metadata": {
    "colab": {
      "provenance": []
    },
    "kernelspec": {
      "display_name": "Python 3",
      "name": "python3"
    },
    "language_info": {
      "name": "python"
    }
  },
  "nbformat": 4,
  "nbformat_minor": 0
}